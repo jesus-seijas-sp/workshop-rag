{
 "cells": [
  {
   "cell_type": "code",
   "execution_count": null,
   "id": "5ccc42c5-9603-4b04-b684-9c0a6246e528",
   "metadata": {},
   "outputs": [],
   "source": [
    "from langchain.prompts import ChatPromptTemplate"
   ]
  },
  {
   "cell_type": "code",
   "execution_count": null,
   "id": "00195546-3a11-442c-81bd-8d03236db7bb",
   "metadata": {},
   "outputs": [],
   "source": [
    "messages = [\n",
    "    (\"system\", \"You are a helpful AI bot. Your name is {name}.\"),\n",
    "    (\"human\", \"Hello, how are you doing?\"),\n",
    "    (\"ai\", \"I'm doing well, thanks!\"),\n",
    "    (\"human\", \"{user_input}\"),\n",
    "]"
   ]
  },
  {
   "cell_type": "code",
   "execution_count": null,
   "id": "823fcd8d-8c8f-4ed1-a0f9-09fb451e3582",
   "metadata": {},
   "outputs": [],
   "source": [
    "prompt = ???"
   ]
  },
  {
   "cell_type": "code",
   "execution_count": null,
   "id": "d8b75a6e-5be7-4931-86bc-5f604170076b",
   "metadata": {},
   "outputs": [],
   "source": [
    "messages = prompt.format_messages(???)\n",
    "print(messages)"
   ]
  }
 ],
 "metadata": {
  "kernelspec": {
   "display_name": "Python 3 (ipykernel)",
   "language": "python",
   "name": "python3"
  },
  "language_info": {
   "codemirror_mode": {
    "name": "ipython",
    "version": 3
   },
   "file_extension": ".py",
   "mimetype": "text/x-python",
   "name": "python",
   "nbconvert_exporter": "python",
   "pygments_lexer": "ipython3",
   "version": "3.12.3"
  }
 },
 "nbformat": 4,
 "nbformat_minor": 5
}
