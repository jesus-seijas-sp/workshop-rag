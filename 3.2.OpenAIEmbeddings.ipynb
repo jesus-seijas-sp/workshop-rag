{
 "cells": [
  {
   "cell_type": "code",
   "execution_count": null,
   "id": "67715435-b305-40db-8a99-4cf2dd7b0d01",
   "metadata": {},
   "outputs": [],
   "source": [
    "from langchain.document_loaders import TextLoader\n",
    "from langchain_text_splitters import CharacterTextSplitter\n",
    "from langchain_openai import OpenAIEmbeddings\n",
    "from dotenv import load_dotenv\n",
    "import os"
   ]
  },
  {
   "cell_type": "code",
   "execution_count": null,
   "id": "1a2b3830-2305-4ab6-bdc6-2b6b8956807d",
   "metadata": {},
   "outputs": [],
   "source": [
    "load_dotenv(override=True)\n",
    "OPENAI_API_KEY = os.getenv(\"OPENAI_API_KEY\")"
   ]
  },
  {
   "cell_type": "code",
   "execution_count": null,
   "id": "f96d275e-de9e-464b-91ea-1d4a5e94c104",
   "metadata": {},
   "outputs": [],
   "source": [
    "loader = TextLoader(\"./data/at_the_mountains_of_madness.txt\", encoding=\"utf-8\")\n",
    "document = loader.load();\n",
    "text_splitter = CharacterTextSplitter(chunk_size=1000, chunk_overlap=0)\n",
    "chunks = text_splitter.split_documents(document)"
   ]
  },
  {
   "cell_type": "code",
   "execution_count": null,
   "id": "718cb46a-6cd3-4ada-aee3-5adb8376c45a",
   "metadata": {},
   "outputs": [],
   "source": [
    "embeddings = ???\n",
    "vectors = ???\n",
    "print(len(vectors))\n",
    "print(len(vectors[0]))"
   ]
  },
  {
   "cell_type": "code",
   "execution_count": null,
   "id": "b4db7730-9ee7-452f-9e21-9bd9eede8a54",
   "metadata": {},
   "outputs": [],
   "source": [
    "embeddings_large = ???\n",
    "vectors_large = ???\n",
    "print(len(vectors_large))\n",
    "print(len(vectors_large[0]))"
   ]
  },
  {
   "cell_type": "code",
   "execution_count": null,
   "id": "05576fe1-205b-4db8-ba00-aea9b6eec228",
   "metadata": {},
   "outputs": [],
   "source": [
    "embeddings_1024 = ???\n",
    "vectors_1024 = ???\n",
    "print(len(vectors_1024))\n",
    "print(len(vectors_1024[0]))"
   ]
  }
 ],
 "metadata": {
  "kernelspec": {
   "display_name": "Python 3 (ipykernel)",
   "language": "python",
   "name": "python3"
  },
  "language_info": {
   "codemirror_mode": {
    "name": "ipython",
    "version": 3
   },
   "file_extension": ".py",
   "mimetype": "text/x-python",
   "name": "python",
   "nbconvert_exporter": "python",
   "pygments_lexer": "ipython3",
   "version": "3.12.3"
  }
 },
 "nbformat": 4,
 "nbformat_minor": 5
}
