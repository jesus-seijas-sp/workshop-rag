{
 "cells": [
  {
   "cell_type": "code",
   "execution_count": null,
   "id": "c209e7bd-2733-49ab-a45e-9b004ab860d8",
   "metadata": {},
   "outputs": [],
   "source": [
    "from typing import List\n",
    "from dotenv import load_dotenv\n",
    "import os\n",
    "from langchain.prompts import PromptTemplate\n",
    "from langchain_openai import ChatOpenAI\n",
    "from langchain.pydantic_v1 import BaseModel, Field, validator\n",
    "from langchain.output_parsers import PydanticOutputParser"
   ]
  },
  {
   "cell_type": "code",
   "execution_count": null,
   "id": "bc360569-087a-43ce-a9ca-69214a0d80b7",
   "metadata": {},
   "outputs": [],
   "source": [
    "load_dotenv(override=True)\n",
    "OPENAI_API_KEY = os.getenv(\"OPENAI_API_KEY\")"
   ]
  },
  {
   "cell_type": "code",
   "execution_count": null,
   "id": "e6fa69e9-8c83-4a78-bb40-a0a4b1f5c5e6",
   "metadata": {},
   "outputs": [],
   "source": [
    "llm = ChatOpenAI(\n",
    "  model=\"gpt-3.5-turbo\",\n",
    "  temperature=0,\n",
    "  api_key=OPENAI_API_KEY\n",
    ")"
   ]
  },
  {
   "cell_type": "code",
   "execution_count": null,
   "id": "ce4baf7a-c8b2-4add-9f12-a34306fc3b76",
   "metadata": {},
   "outputs": [],
   "source": [
    "class ActorModel(BaseModel):\n",
    "    name: str = Field(description=\"name of an actor\")\n",
    "    film_names: List[str] = Field(description=\"list of names of films they starred in\")"
   ]
  },
  {
   "cell_type": "code",
   "execution_count": null,
   "id": "913763ee-8e7e-4c9a-8f3b-e978f82bfe1c",
   "metadata": {},
   "outputs": [],
   "source": [
    "parser = ???\n",
    "format_instructions = ???\n",
    "print(format_instructions)"
   ]
  },
  {
   "cell_type": "code",
   "execution_count": null,
   "id": "acb5bc0d-9023-47e3-8095-6a24fd5668bf",
   "metadata": {},
   "outputs": [],
   "source": [
    "prompt = PromptTemplate(\n",
    "    template = \"Answer the user query.\\n {format_instructions}\\n {query}\\n\",\n",
    "    input_variables=[\"query\", \"format_instructions\"]\n",
    ")"
   ]
  },
  {
   "cell_type": "code",
   "execution_count": null,
   "id": "c715d41d-e4dd-4e80-929b-62cf56d621b7",
   "metadata": {},
   "outputs": [],
   "source": [
    "chain = prompt | llm | parser\n",
    "res = chain.invoke({ \"query\": \"Generate the filmography for a random actor\", \"format_instructions\": format_instructions })\n",
    "print(res)"
   ]
  }
 ],
 "metadata": {
  "kernelspec": {
   "display_name": "Python 3 (ipykernel)",
   "language": "python",
   "name": "python3"
  },
  "language_info": {
   "codemirror_mode": {
    "name": "ipython",
    "version": 3
   },
   "file_extension": ".py",
   "mimetype": "text/x-python",
   "name": "python",
   "nbconvert_exporter": "python",
   "pygments_lexer": "ipython3",
   "version": "3.12.3"
  }
 },
 "nbformat": 4,
 "nbformat_minor": 5
}
