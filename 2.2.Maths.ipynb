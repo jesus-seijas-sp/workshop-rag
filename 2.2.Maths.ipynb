{
 "cells": [
  {
   "cell_type": "code",
   "execution_count": null,
   "id": "aa0480f4-8f7b-4087-ab6c-b86ca2ea7245",
   "metadata": {},
   "outputs": [],
   "source": [
    "from dotenv import load_dotenv\n",
    "import os\n",
    "from langchain import LLMMathChain\n",
    "from langchain_openai import ChatOpenAI"
   ]
  },
  {
   "cell_type": "code",
   "execution_count": null,
   "id": "9b42d7de-f814-4862-a76e-67a8f22fe355",
   "metadata": {},
   "outputs": [],
   "source": [
    "load_dotenv(override=True)\n",
    "OPENAI_API_KEY = os.getenv(\"OPENAI_API_KEY\")"
   ]
  },
  {
   "cell_type": "code",
   "execution_count": null,
   "id": "7fcea183-0a7b-406d-b9ee-f0111a27612b",
   "metadata": {},
   "outputs": [],
   "source": [
    "llm = ChatOpenAI(\n",
    "  model=\"gpt-3.5-turbo\",\n",
    "  temperature=0,\n",
    "  api_key=OPENAI_API_KEY\n",
    ")"
   ]
  },
  {
   "cell_type": "code",
   "execution_count": null,
   "id": "c627d9d1-2b26-4ccf-a8ed-2be794f15ee4",
   "metadata": {},
   "outputs": [],
   "source": [
    "llm_math = ???"
   ]
  },
  {
   "cell_type": "code",
   "execution_count": null,
   "id": "4e3d9f49-7d78-46f9-a458-49d741fcb6d9",
   "metadata": {},
   "outputs": [],
   "source": [
    "llm_math.invoke(\"What is 13 raised to the .3432 power?\")"
   ]
  }
 ],
 "metadata": {
  "kernelspec": {
   "display_name": "Python 3 (ipykernel)",
   "language": "python",
   "name": "python3"
  },
  "language_info": {
   "codemirror_mode": {
    "name": "ipython",
    "version": 3
   },
   "file_extension": ".py",
   "mimetype": "text/x-python",
   "name": "python",
   "nbconvert_exporter": "python",
   "pygments_lexer": "ipython3",
   "version": "3.12.3"
  }
 },
 "nbformat": 4,
 "nbformat_minor": 5
}
