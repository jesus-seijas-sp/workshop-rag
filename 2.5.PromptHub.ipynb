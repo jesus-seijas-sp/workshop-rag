{
 "cells": [
  {
   "cell_type": "code",
   "execution_count": null,
   "id": "5b38f97a-4aaf-4ce2-b453-03393d908986",
   "metadata": {},
   "outputs": [],
   "source": [
    "from dotenv import load_dotenv\n",
    "import os\n",
    "from langchain import LLMMathChain, hub\n",
    "from langchain_openai import ChatOpenAI\n",
    "from langchain_community.retrievers import TavilySearchAPIRetriever\n",
    "from langchain.agents import create_react_agent, Tool, AgentExecutor"
   ]
  },
  {
   "cell_type": "code",
   "execution_count": null,
   "id": "e0f694bd-263d-4ed3-9fd9-1e4f4a421ab2",
   "metadata": {},
   "outputs": [],
   "source": [
    "load_dotenv(override=True)\n",
    "OPENAI_API_KEY = os.getenv(\"OPENAI_API_KEY\")\n",
    "TAVILY_API_KEY = os.getenv(\"TAVILY_API_KEY\")"
   ]
  },
  {
   "cell_type": "code",
   "execution_count": null,
   "id": "2d1f7d54-aea8-4c88-810d-95e7773f6b18",
   "metadata": {},
   "outputs": [],
   "source": [
    "llm = ChatOpenAI(\n",
    "  model=\"gpt-3.5-turbo\",\n",
    "  temperature=0,\n",
    "  api_key=OPENAI_API_KEY\n",
    ")"
   ]
  },
  {
   "cell_type": "code",
   "execution_count": null,
   "id": "a16d3947-7d9f-4066-821e-d21275b1da96",
   "metadata": {},
   "outputs": [],
   "source": [
    "retriever = TavilySearchAPIRetriever(api_key=TAVILY_API_KEY, k=3)"
   ]
  },
  {
   "cell_type": "code",
   "execution_count": null,
   "id": "7d462d7e-7407-4717-bed3-a245b94760d9",
   "metadata": {},
   "outputs": [],
   "source": [
    "llm_math = LLMMathChain.from_llm(llm=llm,verbose=True)"
   ]
  },
  {
   "cell_type": "code",
   "execution_count": null,
   "id": "4189f9bd-a878-46f5-b19f-8a54e9b99e70",
   "metadata": {},
   "outputs": [],
   "source": [
    "tools = [\n",
    "\tTool(\n",
    "\t\tname = \"Search\",\n",
    "\t\tfunc=retriever.invoke,\n",
    "\t\tdescription=\"useful for when you need to answer questions about current events. You should ask targeted questions\"\n",
    "\t),\n",
    "\tTool(\n",
    "\t\tname=\"Calculator\",\n",
    "\t\tfunc=llm_math.invoke,\n",
    "\t\tdescription=\"useful for when you need to answer questions about math\"\n",
    "\t)\n",
    "]"
   ]
  },
  {
   "cell_type": "code",
   "execution_count": null,
   "id": "aa412791-56cb-43ff-a3a8-e976a7cfda7f",
   "metadata": {},
   "outputs": [],
   "source": [
    "prompt = ???"
   ]
  },
  {
   "cell_type": "code",
   "execution_count": null,
   "id": "a740e9f6-48cb-4189-b388-f19d69672876",
   "metadata": {},
   "outputs": [],
   "source": [
    "agent = create_react_agent(llm=llm, tools=tools, prompt=prompt)"
   ]
  },
  {
   "cell_type": "code",
   "execution_count": null,
   "id": "83131d6b-48f5-41ff-882f-90cb7fcf2410",
   "metadata": {},
   "outputs": [],
   "source": [
    "agent_executor = AgentExecutor(agent=agent, tools=tools, verbose=True, handle_parsing_errors=True)"
   ]
  },
  {
   "cell_type": "code",
   "execution_count": null,
   "id": "a11cad42-e313-4583-9217-607a203e0fcd",
   "metadata": {},
   "outputs": [],
   "source": [
    "query = \"multiply the current temperature in Tokyo by two and raise to the cube\"\n",
    "agent_executor.invoke({\"input\": query})"
   ]
  }
 ],
 "metadata": {
  "kernelspec": {
   "display_name": "Python 3 (ipykernel)",
   "language": "python",
   "name": "python3"
  },
  "language_info": {
   "codemirror_mode": {
    "name": "ipython",
    "version": 3
   },
   "file_extension": ".py",
   "mimetype": "text/x-python",
   "name": "python",
   "nbconvert_exporter": "python",
   "pygments_lexer": "ipython3",
   "version": "3.12.3"
  }
 },
 "nbformat": 4,
 "nbformat_minor": 5
}
