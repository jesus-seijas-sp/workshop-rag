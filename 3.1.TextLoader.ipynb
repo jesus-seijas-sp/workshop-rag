{
 "cells": [
  {
   "cell_type": "code",
   "execution_count": null,
   "id": "2320f46d-ddfe-4b75-9f42-40be58810166",
   "metadata": {},
   "outputs": [],
   "source": [
    "from langchain.document_loaders import TextLoader\n",
    "from langchain.text_splitter import CharacterTextSplitter"
   ]
  },
  {
   "cell_type": "code",
   "execution_count": null,
   "id": "a807aa98-ed38-4dc7-b53f-bbb2422b96f5",
   "metadata": {},
   "outputs": [],
   "source": [
    "loader = ???\n",
    "document = ???\n",
    "print(document)"
   ]
  },
  {
   "cell_type": "code",
   "execution_count": null,
   "id": "a13aab7f-e431-468e-a112-4d40671c1ba7",
   "metadata": {},
   "outputs": [],
   "source": [
    "text_splitter = ???\n",
    "chunks = ???"
   ]
  },
  {
   "cell_type": "code",
   "execution_count": null,
   "id": "f79fe6f5-a1a9-42a2-8376-52067ccbdab5",
   "metadata": {},
   "outputs": [],
   "source": [
    "print(len(chunks))"
   ]
  }
 ],
 "metadata": {
  "kernelspec": {
   "display_name": "Python 3 (ipykernel)",
   "language": "python",
   "name": "python3"
  },
  "language_info": {
   "codemirror_mode": {
    "name": "ipython",
    "version": 3
   },
   "file_extension": ".py",
   "mimetype": "text/x-python",
   "name": "python",
   "nbconvert_exporter": "python",
   "pygments_lexer": "ipython3",
   "version": "3.12.3"
  }
 },
 "nbformat": 4,
 "nbformat_minor": 5
}
