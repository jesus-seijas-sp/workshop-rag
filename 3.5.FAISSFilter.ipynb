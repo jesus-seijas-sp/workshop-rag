{
 "cells": [
  {
   "cell_type": "code",
   "execution_count": null,
   "id": "80bbeb80-21a8-4560-aa2b-91db8ba0b5ae",
   "metadata": {},
   "outputs": [],
   "source": [
    "from langchain.embeddings import HuggingFaceEmbeddings\n",
    "from langchain_community.vectorstores import FAISS\n",
    "from langchain_core.documents import Document"
   ]
  },
  {
   "cell_type": "code",
   "execution_count": null,
   "id": "7b060f12-9f9d-456a-92a2-aec7483f9ebb",
   "metadata": {},
   "outputs": [],
   "source": [
    "embeddings = HuggingFaceEmbeddings(model_name='all-MiniLM-L6-v2', model_kwargs={'device': 'cpu'})"
   ]
  },
  {
   "cell_type": "code",
   "execution_count": null,
   "id": "cc1424ee-5c07-4733-820f-fa0094cac230",
   "metadata": {},
   "outputs": [],
   "source": [
    "list_of_documents = [\n",
    "    Document(page_content=\"foo\", metadata=dict(page=1)),\n",
    "    Document(page_content=\"bar\", metadata=dict(page=1)),\n",
    "    Document(page_content=\"foo\", metadata=dict(page=2)),\n",
    "    Document(page_content=\"barbar\", metadata=dict(page=2)),\n",
    "    Document(page_content=\"foo\", metadata=dict(page=3)),\n",
    "    Document(page_content=\"bar burr\", metadata=dict(page=3)),\n",
    "    Document(page_content=\"foo\", metadata=dict(page=4)),\n",
    "    Document(page_content=\"bar bruh\", metadata=dict(page=4)),\n",
    "]"
   ]
  },
  {
   "cell_type": "code",
   "execution_count": null,
   "id": "667ebce8-f206-4035-935c-4ce8b20541cf",
   "metadata": {},
   "outputs": [],
   "source": [
    "db = FAISS.from_documents(list_of_documents, embeddings)"
   ]
  },
  {
   "cell_type": "code",
   "execution_count": null,
   "id": "ee41b670-2719-4bb3-ba43-dcf3d44b5059",
   "metadata": {},
   "outputs": [],
   "source": [
    "results = ???\n",
    "for doc, score in results:\n",
    "    print(f\"Content: {doc.page_content}, Metadata: {doc.metadata}, Score: {score}\")"
   ]
  },
  {
   "cell_type": "code",
   "execution_count": null,
   "id": "f268fa07-0bf7-4aa3-af8e-f1846d014da5",
   "metadata": {},
   "outputs": [],
   "source": [
    "results = ???\n",
    "for doc, score in results:\n",
    "    print(f\"Content: {doc.page_content}, Metadata: {doc.metadata}, Score: {score}\")"
   ]
  },
  {
   "cell_type": "markdown",
   "id": "897ef0d1-6672-4545-a509-5f37fcf3f69e",
   "metadata": {},
   "source": [
    "k means the number of documents to return\n",
    "fetch_k is the number of documents to retrieve before filtering"
   ]
  },
  {
   "cell_type": "code",
   "execution_count": null,
   "id": "339539d5-ba92-4316-ae36-8d6f25cef15c",
   "metadata": {},
   "outputs": [],
   "source": [
    "results = ???\n",
    "for doc, score in results:\n",
    "    print(f\"Content: {doc.page_content}, Metadata: {doc.metadata}, Score: {score}\")"
   ]
  }
 ],
 "metadata": {
  "kernelspec": {
   "display_name": "Python 3 (ipykernel)",
   "language": "python",
   "name": "python3"
  },
  "language_info": {
   "codemirror_mode": {
    "name": "ipython",
    "version": 3
   },
   "file_extension": ".py",
   "mimetype": "text/x-python",
   "name": "python",
   "nbconvert_exporter": "python",
   "pygments_lexer": "ipython3",
   "version": "3.12.3"
  }
 },
 "nbformat": 4,
 "nbformat_minor": 5
}
