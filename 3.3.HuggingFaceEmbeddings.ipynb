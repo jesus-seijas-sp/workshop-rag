{
 "cells": [
  {
   "cell_type": "code",
   "execution_count": null,
   "id": "0e33416b-16aa-448a-905f-f5b2a484d8f0",
   "metadata": {},
   "outputs": [],
   "source": [
    "from langchain.document_loaders import TextLoader\n",
    "from langchain_text_splitters import CharacterTextSplitter\n",
    "from langchain.embeddings import HuggingFaceEmbeddings"
   ]
  },
  {
   "cell_type": "code",
   "execution_count": null,
   "id": "c7257747-87a2-43b4-8950-a6c36dfe814a",
   "metadata": {},
   "outputs": [],
   "source": [
    "loader = TextLoader(\"./data/at_the_mountains_of_madness.txt\", encoding=\"utf-8\")\n",
    "document = loader.load();\n",
    "text_splitter = CharacterTextSplitter(chunk_size=1000, chunk_overlap=0)\n",
    "chunks = text_splitter.split_documents(document)"
   ]
  },
  {
   "cell_type": "code",
   "execution_count": null,
   "id": "c5fe86de-d07d-4d33-9c98-032a31649406",
   "metadata": {},
   "outputs": [],
   "source": [
    "embeddings = ???\n",
    "vectors = embeddings.embed_documents([chunks[2].page_content])\n",
    "print(len(vectors))\n",
    "print(len(vectors[0]))"
   ]
  }
 ],
 "metadata": {
  "kernelspec": {
   "display_name": "Python 3 (ipykernel)",
   "language": "python",
   "name": "python3"
  },
  "language_info": {
   "codemirror_mode": {
    "name": "ipython",
    "version": 3
   },
   "file_extension": ".py",
   "mimetype": "text/x-python",
   "name": "python",
   "nbconvert_exporter": "python",
   "pygments_lexer": "ipython3",
   "version": "3.12.3"
  }
 },
 "nbformat": 4,
 "nbformat_minor": 5
}
