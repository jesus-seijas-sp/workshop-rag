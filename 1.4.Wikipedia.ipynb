{
 "cells": [
  {
   "cell_type": "code",
   "execution_count": null,
   "id": "14b59d4c-790b-436b-9c05-18e2aa0bb996",
   "metadata": {},
   "outputs": [],
   "source": [
    "from langchain.prompts import PromptTemplate\n",
    "from langchain_community.tools import WikipediaQueryRun\n",
    "from langchain_community.utilities import WikipediaAPIWrapper"
   ]
  },
  {
   "cell_type": "code",
   "execution_count": null,
   "id": "1cf3cf79-2e43-4eac-9a7b-780a65937568",
   "metadata": {},
   "outputs": [],
   "source": [
    "template = \"\"\"\n",
    "given the information {information} I want you to create:\n",
    "1. A short summary\n",
    "2. two interesting facts\n",
    "\"\"\"\n",
    "prompt = PromptTemplate(input_variables=[\"information\"], template=template)"
   ]
  },
  {
   "cell_type": "code",
   "execution_count": null,
   "id": "47156424-0dc3-4d90-8610-9c931983faae",
   "metadata": {},
   "outputs": [],
   "source": [
    "topic = ???\n",
    "wikipedia = ???\n",
    "information = ???"
   ]
  },
  {
   "cell_type": "code",
   "execution_count": null,
   "id": "6f57f8c5-7403-4f00-946b-d0e67833038d",
   "metadata": {},
   "outputs": [],
   "source": [
    "print(prompt.format(information=information))"
   ]
  }
 ],
 "metadata": {
  "kernelspec": {
   "display_name": "Python 3 (ipykernel)",
   "language": "python",
   "name": "python3"
  },
  "language_info": {
   "codemirror_mode": {
    "name": "ipython",
    "version": 3
   },
   "file_extension": ".py",
   "mimetype": "text/x-python",
   "name": "python",
   "nbconvert_exporter": "python",
   "pygments_lexer": "ipython3",
   "version": "3.12.3"
  }
 },
 "nbformat": 4,
 "nbformat_minor": 5
}
