{
 "cells": [
  {
   "cell_type": "code",
   "execution_count": null,
   "id": "71442338-ac60-49d2-b415-09ed32baa5e5",
   "metadata": {},
   "outputs": [],
   "source": [
    "from langchain.prompts import PromptTemplate, FewShotPromptTemplate"
   ]
  },
  {
   "cell_type": "code",
   "execution_count": null,
   "id": "76808036-22c0-460e-9bf1-66d23bdb54e2",
   "metadata": {},
   "outputs": [],
   "source": [
    "questions = [\n",
    "    {\n",
    "        \"question\": \"Who wrote the novel '1984'?\",\n",
    "        \"answer\": \"George Orwell\"\n",
    "    },\n",
    "    {\n",
    "        \"question\": \"What is the capital city of Australia?\",\n",
    "        \"answer\": \"Canberra\"\n",
    "    },\n",
    "    {\n",
    "        \"question\": \"What is the chemical symbol for Gold?\",\n",
    "        \"answer\": \"Au\"\n",
    "    },\n",
    "    {\n",
    "        \"question\": \"In what year was the first iPhone released?\",\n",
    "        \"answer\": \"2007\"\n",
    "    }\n",
    "]\n"
   ]
  },
  {
   "cell_type": "code",
   "execution_count": null,
   "id": "876b2ae9-30e8-4916-b74c-41c94378b912",
   "metadata": {},
   "outputs": [],
   "source": [
    "question_prompt = ???"
   ]
  },
  {
   "cell_type": "code",
   "execution_count": null,
   "id": "6b58c337-6fb4-430a-ae93-064268a50dc7",
   "metadata": {},
   "outputs": [],
   "source": [
    "prompt = ???\n",
    "print(prompt.format(input=\"When was matlab developed?\"))"
   ]
  }
 ],
 "metadata": {
  "kernelspec": {
   "display_name": "Python 3 (ipykernel)",
   "language": "python",
   "name": "python3"
  },
  "language_info": {
   "codemirror_mode": {
    "name": "ipython",
    "version": 3
   },
   "file_extension": ".py",
   "mimetype": "text/x-python",
   "name": "python",
   "nbconvert_exporter": "python",
   "pygments_lexer": "ipython3",
   "version": "3.12.3"
  }
 },
 "nbformat": 4,
 "nbformat_minor": 5
}
