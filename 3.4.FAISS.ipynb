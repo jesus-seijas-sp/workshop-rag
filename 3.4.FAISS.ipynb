{
 "cells": [
  {
   "cell_type": "code",
   "execution_count": null,
   "id": "fc814eff-7528-4866-bbe6-7ad7a3dcff1e",
   "metadata": {},
   "outputs": [],
   "source": [
    "from langchain_community.document_loaders import TextLoader\n",
    "from langchain_text_splitters import CharacterTextSplitter\n",
    "from langchain.embeddings import HuggingFaceEmbeddings\n",
    "from langchain_community.vectorstores import FAISS"
   ]
  },
  {
   "cell_type": "code",
   "execution_count": null,
   "id": "3940fbea-81e3-44a0-b755-09b6ecba1451",
   "metadata": {},
   "outputs": [],
   "source": [
    "loader = TextLoader(\"./data/state_of_the_union.txt\", encoding=\"utf-8\")\n",
    "document = loader.load();\n",
    "text_splitter = CharacterTextSplitter(chunk_size=1000, chunk_overlap=0)\n",
    "chunks = text_splitter.split_documents(document)"
   ]
  },
  {
   "cell_type": "code",
   "execution_count": null,
   "id": "795517c0-9dae-46a5-938a-0dc1e7543f28",
   "metadata": {},
   "outputs": [],
   "source": [
    "embeddings = HuggingFaceEmbeddings(model_name='all-MiniLM-L6-v2', model_kwargs={'device': 'cpu'})\n",
    "db = ???\n",
    "print(db.index.ntotal)"
   ]
  },
  {
   "cell_type": "code",
   "execution_count": null,
   "id": "555d14ee-2a35-4a90-8199-45ed8260d294",
   "metadata": {},
   "outputs": [],
   "source": [
    "query = \"What did the president say about Ketanji Brown Jackson\"\n",
    "docs = ???"
   ]
  },
  {
   "cell_type": "code",
   "execution_count": null,
   "id": "1ca451d4-fc11-4e14-83f2-dfdca806e31c",
   "metadata": {},
   "outputs": [],
   "source": [
    "print(len(docs))"
   ]
  },
  {
   "cell_type": "code",
   "execution_count": null,
   "id": "eb943fb2-3463-4c26-8f74-1ff2a3aa10c7",
   "metadata": {},
   "outputs": [],
   "source": [
    "print(docs[0].page_content)"
   ]
  },
  {
   "cell_type": "code",
   "execution_count": null,
   "id": "98e69637-8b6f-40ef-be35-3fb1f703fd41",
   "metadata": {},
   "outputs": [],
   "source": [
    "docs = db.similarity_search_with_score(query)\n",
    "print(docs[0][0])\n",
    "print(docs[0][1])"
   ]
  },
  {
   "cell_type": "code",
   "execution_count": null,
   "id": "5f33ba65-f729-4f0d-bbc5-14189c2f2509",
   "metadata": {},
   "outputs": [],
   "source": [
    "db.save_local(\"./db/faiss_index\")"
   ]
  },
  {
   "cell_type": "code",
   "execution_count": null,
   "id": "0d486a3b-ba32-4cc5-b2f0-4d599af5068b",
   "metadata": {},
   "outputs": [],
   "source": [
    "new_db = ???\n",
    "\n",
    "docs = new_db.similarity_search(query)\n",
    "print(docs[0].page_content)"
   ]
  },
  {
   "cell_type": "code",
   "execution_count": null,
   "id": "c46d8227-0530-45fc-a9da-2f9fb43b6081",
   "metadata": {},
   "outputs": [],
   "source": [
    "pkl = ???\n",
    "new_db2 = ???\n",
    "docs = new_db2.similarity_search(query)\n",
    "print(docs[0].page_content)"
   ]
  },
  {
   "cell_type": "code",
   "execution_count": null,
   "id": "502c22cb-7af8-4b42-a0d8-8dd1ae4c44fe",
   "metadata": {},
   "outputs": [],
   "source": [
    "new_db.docstore._dict"
   ]
  }
 ],
 "metadata": {
  "kernelspec": {
   "display_name": "Python 3 (ipykernel)",
   "language": "python",
   "name": "python3"
  },
  "language_info": {
   "codemirror_mode": {
    "name": "ipython",
    "version": 3
   },
   "file_extension": ".py",
   "mimetype": "text/x-python",
   "name": "python",
   "nbconvert_exporter": "python",
   "pygments_lexer": "ipython3",
   "version": "3.12.3"
  }
 },
 "nbformat": 4,
 "nbformat_minor": 5
}
