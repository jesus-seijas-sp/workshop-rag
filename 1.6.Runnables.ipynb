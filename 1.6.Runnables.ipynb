{
 "cells": [
  {
   "cell_type": "code",
   "execution_count": null,
   "id": "132e4c00-45b7-4353-800b-014d15eb7492",
   "metadata": {},
   "outputs": [],
   "source": [
    "from langchain_openai import ChatOpenAI\n",
    "from dotenv import load_dotenv\n",
    "import os\n",
    "from langchain.prompts import PromptTemplate\n",
    "from langchain_community.tools import WikipediaQueryRun\n",
    "from langchain_community.utilities import WikipediaAPIWrapper"
   ]
  },
  {
   "cell_type": "code",
   "execution_count": null,
   "id": "eb1a02db-ecd7-4826-9c4d-2ebbbf642e71",
   "metadata": {},
   "outputs": [],
   "source": [
    "load_dotenv(override=True)\n",
    "OPENAI_API_KEY = os.getenv(\"OPENAI_API_KEY\")"
   ]
  },
  {
   "cell_type": "code",
   "execution_count": null,
   "id": "8a5f5a58-3764-49c1-8109-208180bf5f3c",
   "metadata": {},
   "outputs": [],
   "source": [
    "template = \"\"\"\n",
    "given the information {information} I want you to create:\n",
    "1. A short summary\n",
    "2. two interesting facts\n",
    "\"\"\"\n",
    "prompt = PromptTemplate(input_variables=[\"information\"], template=template)"
   ]
  },
  {
   "cell_type": "code",
   "execution_count": null,
   "id": "5afd5c19-56ce-4908-8e6a-d46919c9e7f4",
   "metadata": {},
   "outputs": [],
   "source": [
    "topic = \"Elon Musk\"\n",
    "wikipedia = WikipediaQueryRun(api_wrapper=WikipediaAPIWrapper())\n",
    "information = wikipedia.run(topic)"
   ]
  },
  {
   "cell_type": "code",
   "execution_count": null,
   "id": "4ca0db1c-448e-4a81-ab9c-38f2b6923f7a",
   "metadata": {},
   "outputs": [],
   "source": [
    "llm = ChatOpenAI(\n",
    "  model=\"gpt-3.5-turbo\",\n",
    "  temperature=0,\n",
    "  api_key=OPENAI_API_KEY\n",
    ")"
   ]
  },
  {
   "cell_type": "code",
   "execution_count": null,
   "id": "53644ca4-9eef-4f6a-9fb0-1f1969d17474",
   "metadata": {},
   "outputs": [],
   "source": [
    "chain = ???\n",
    "res = ???"
   ]
  },
  {
   "cell_type": "code",
   "execution_count": null,
   "id": "e0539323-1f73-4321-9c7c-cd5f1f65bf88",
   "metadata": {},
   "outputs": [],
   "source": [
    "print(res.content)"
   ]
  }
 ],
 "metadata": {
  "kernelspec": {
   "display_name": "Python 3 (ipykernel)",
   "language": "python",
   "name": "python3"
  },
  "language_info": {
   "codemirror_mode": {
    "name": "ipython",
    "version": 3
   },
   "file_extension": ".py",
   "mimetype": "text/x-python",
   "name": "python",
   "nbconvert_exporter": "python",
   "pygments_lexer": "ipython3",
   "version": "3.12.3"
  }
 },
 "nbformat": 4,
 "nbformat_minor": 5
}
