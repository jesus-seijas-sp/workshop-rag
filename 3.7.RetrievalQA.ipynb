{
 "cells": [
  {
   "cell_type": "code",
   "execution_count": null,
   "id": "4443d82c-9d76-4b25-8b7f-a8704d60b542",
   "metadata": {},
   "outputs": [],
   "source": [
    "from langchain_openai import OpenAIEmbeddings, OpenAI\n",
    "from langchain_community.vectorstores import FAISS\n",
    "from dotenv import load_dotenv\n",
    "import os\n",
    "from langchain.chains import RetrievalQA"
   ]
  },
  {
   "cell_type": "code",
   "execution_count": null,
   "id": "03837c21-e667-4e98-982d-66b4cb51c386",
   "metadata": {},
   "outputs": [],
   "source": [
    "load_dotenv(override=True)\n",
    "OPENAI_API_KEY = os.getenv(\"OPENAI_API_KEY\")"
   ]
  },
  {
   "cell_type": "code",
   "execution_count": null,
   "id": "b1eba275-cb2c-438c-a3fa-28b9e0819ee2",
   "metadata": {},
   "outputs": [],
   "source": [
    "embeddings = OpenAIEmbeddings(openai_api_key=OPENAI_API_KEY)\n",
    "db = FAISS.load_local(\"./db/cpi\", embeddings, allow_dangerous_deserialization=True)"
   ]
  },
  {
   "cell_type": "code",
   "execution_count": null,
   "id": "4a553f28-6a3e-4185-9aeb-ffd108259057",
   "metadata": {},
   "outputs": [],
   "source": [
    "qa = ???"
   ]
  },
  {
   "cell_type": "code",
   "execution_count": null,
   "id": "d5f4f8da-9fdd-430b-b245-88b9f07653e1",
   "metadata": {},
   "outputs": [],
   "source": [
    "query = \"how do inflation and house prices compare?\"\n",
    "result = qa.invoke(query)\n",
    "print(result)"
   ]
  }
 ],
 "metadata": {
  "kernelspec": {
   "display_name": "Python 3 (ipykernel)",
   "language": "python",
   "name": "python3"
  },
  "language_info": {
   "codemirror_mode": {
    "name": "ipython",
    "version": 3
   },
   "file_extension": ".py",
   "mimetype": "text/x-python",
   "name": "python",
   "nbconvert_exporter": "python",
   "pygments_lexer": "ipython3",
   "version": "3.12.3"
  }
 },
 "nbformat": 4,
 "nbformat_minor": 5
}
