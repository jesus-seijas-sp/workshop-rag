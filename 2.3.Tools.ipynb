{
 "cells": [
  {
   "cell_type": "code",
   "execution_count": null,
   "id": "d7e6b020-8812-48a2-ad2b-1c9dcecdf9c8",
   "metadata": {},
   "outputs": [],
   "source": [
    "from dotenv import load_dotenv\n",
    "import os\n",
    "from langchain import LLMMathChain\n",
    "from langchain_openai import ChatOpenAI\n",
    "from langchain_community.retrievers import TavilySearchAPIRetriever\n",
    "from langchain.agents import initialize_agent, Tool, AgentType"
   ]
  },
  {
   "cell_type": "code",
   "execution_count": null,
   "id": "64884f83-7956-4503-a7b5-15dc4ce5610d",
   "metadata": {},
   "outputs": [],
   "source": [
    "load_dotenv(override=True)\n",
    "OPENAI_API_KEY = os.getenv(\"OPENAI_API_KEY\")\n",
    "TAVILY_API_KEY = os.getenv(\"TAVILY_API_KEY\")"
   ]
  },
  {
   "cell_type": "code",
   "execution_count": null,
   "id": "aaa67b41-d8cf-44a4-a73c-12c683de329e",
   "metadata": {},
   "outputs": [],
   "source": [
    "llm = ChatOpenAI(\n",
    "  model=\"gpt-3.5-turbo\",\n",
    "  temperature=0,\n",
    "  api_key=OPENAI_API_KEY\n",
    ")"
   ]
  },
  {
   "cell_type": "code",
   "execution_count": null,
   "id": "87d3f3f7-2bbd-4bec-8251-e65170a9730f",
   "metadata": {},
   "outputs": [],
   "source": [
    "retriever = TavilySearchAPIRetriever(api_key=TAVILY_API_KEY, k=3)"
   ]
  },
  {
   "cell_type": "code",
   "execution_count": null,
   "id": "fc498ad4-6ee8-4a16-8014-d3eed043652e",
   "metadata": {},
   "outputs": [],
   "source": [
    "llm_math = LLMMathChain.from_llm(llm=llm,verbose=True)"
   ]
  },
  {
   "cell_type": "code",
   "execution_count": null,
   "id": "265a86cd-bde9-4267-96ff-482ec1add802",
   "metadata": {},
   "outputs": [],
   "source": [
    "tools = ???"
   ]
  },
  {
   "cell_type": "code",
   "execution_count": null,
   "id": "2ec7d129-35de-431d-bbc2-82c0d36e49da",
   "metadata": {},
   "outputs": [],
   "source": [
    "agent = ???"
   ]
  },
  {
   "cell_type": "code",
   "execution_count": null,
   "id": "76667c84-4a1f-4a4d-ab89-0590e441cd02",
   "metadata": {},
   "outputs": [],
   "source": [
    "query = \"multiply the current temperature in Tokyo by two and raise to the cube\"\n",
    "agent.invoke(query)"
   ]
  }
 ],
 "metadata": {
  "kernelspec": {
   "display_name": "Python 3 (ipykernel)",
   "language": "python",
   "name": "python3"
  },
  "language_info": {
   "codemirror_mode": {
    "name": "ipython",
    "version": 3
   },
   "file_extension": ".py",
   "mimetype": "text/x-python",
   "name": "python",
   "nbconvert_exporter": "python",
   "pygments_lexer": "ipython3",
   "version": "3.12.3"
  }
 },
 "nbformat": 4,
 "nbformat_minor": 5
}
