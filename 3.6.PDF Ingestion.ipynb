{
 "cells": [
  {
   "cell_type": "code",
   "execution_count": 21,
   "id": "bf5bb51b-34cc-44eb-b05c-8b7f2bc35909",
   "metadata": {},
   "outputs": [],
   "source": [
    "from langchain.document_loaders import PyPDFLoader\n",
    "from langchain.text_splitter import CharacterTextSplitter\n",
    "from langchain_openai import OpenAIEmbeddings\n",
    "from langchain_community.vectorstores import FAISS\n",
    "from dotenv import load_dotenv\n",
    "import os"
   ]
  },
  {
   "cell_type": "code",
   "execution_count": 19,
   "id": "7be3e995-4310-4485-9be1-ac7414e8b3c8",
   "metadata": {},
   "outputs": [],
   "source": [
    "load_dotenv(override=True)\n",
    "OPENAI_API_KEY = os.getenv(\"OPENAI_API_KEY\")"
   ]
  },
  {
   "cell_type": "code",
   "execution_count": 7,
   "id": "0a70dd73-46b6-4b01-a258-8338f31d1ec5",
   "metadata": {},
   "outputs": [],
   "source": [
    "loader = ???"
   ]
  },
  {
   "cell_type": "code",
   "execution_count": 14,
   "id": "049f9834-a0ca-4f29-9be1-1614741676a9",
   "metadata": {},
   "outputs": [],
   "source": [
    "documents = loader.load()"
   ]
  },
  {
   "cell_type": "code",
   "execution_count": 15,
   "id": "208c1f33-aac4-4232-8089-1e42457c0f8d",
   "metadata": {},
   "outputs": [],
   "source": [
    "splitter = CharacterTextSplitter(chunk_size=1000, chunk_overlap=30, separator=\"\\n\")"
   ]
  },
  {
   "cell_type": "code",
   "execution_count": 17,
   "id": "3044e281-bebf-4f94-9975-94b63d057dd1",
   "metadata": {},
   "outputs": [],
   "source": [
    "docs = splitter.split_documents(documents=documents)"
   ]
  },
  {
   "cell_type": "code",
   "execution_count": 22,
   "id": "d3f2af8a-a496-44a6-99a4-37b81467073e",
   "metadata": {},
   "outputs": [],
   "source": [
    "embeddings = OpenAIEmbeddings(openai_api_key=OPENAI_API_KEY)\n",
    "db = FAISS.from_documents(docs, embeddings)"
   ]
  },
  {
   "cell_type": "code",
   "execution_count": 23,
   "id": "bf4281f0-1a6a-4d79-ae13-b920dd3e6693",
   "metadata": {},
   "outputs": [],
   "source": [
    "db.save_local(\"./db/cpi\")"
   ]
  }
 ],
 "metadata": {
  "kernelspec": {
   "display_name": "Python 3 (ipykernel)",
   "language": "python",
   "name": "python3"
  },
  "language_info": {
   "codemirror_mode": {
    "name": "ipython",
    "version": 3
   },
   "file_extension": ".py",
   "mimetype": "text/x-python",
   "name": "python",
   "nbconvert_exporter": "python",
   "pygments_lexer": "ipython3",
   "version": "3.12.3"
  }
 },
 "nbformat": 4,
 "nbformat_minor": 5
}
