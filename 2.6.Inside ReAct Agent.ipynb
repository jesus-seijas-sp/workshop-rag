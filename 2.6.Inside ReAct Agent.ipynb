{
 "cells": [
  {
   "cell_type": "code",
   "execution_count": null,
   "id": "51220723-81ae-4cf4-96c6-8801864af9b2",
   "metadata": {},
   "outputs": [],
   "source": [
    "from dotenv import load_dotenv\n",
    "import os\n",
    "from langchain.agents import tool\n",
    "from langchain.agents.output_parsers.react_single_input import ReActSingleInputOutputParser\n",
    "from langchain.agents.format_scratchpad import format_log_to_str\n",
    "from langchain.prompts import PromptTemplate\n",
    "from langchain.tools.render import render_text_description\n",
    "from langchain_openai import ChatOpenAI\n",
    "from langchain.schema import AgentAction, AgentFinish"
   ]
  },
  {
   "cell_type": "code",
   "execution_count": null,
   "id": "c9904b05-74e1-4ebd-a43d-f806a51b502f",
   "metadata": {},
   "outputs": [],
   "source": [
    "load_dotenv(override=True)\n",
    "OPENAI_API_KEY = os.getenv(\"OPENAI_API_KEY\")"
   ]
  },
  {
   "cell_type": "code",
   "execution_count": null,
   "id": "14cc8f71-3db8-4bfa-bde4-8b04f800973e",
   "metadata": {},
   "outputs": [],
   "source": [
    "@tool\n",
    "def get_text_length(text: str) -> int:\n",
    "    \"\"\"return the length of a text\"\"\"\n",
    "    return len(text.strip(\"\\n\").strip('\"').strip(\"'\"))"
   ]
  },
  {
   "cell_type": "code",
   "execution_count": null,
   "id": "436c071a-e2d5-426f-9336-13a75d08f8f1",
   "metadata": {},
   "outputs": [],
   "source": [
    "tools = [get_text_length]"
   ]
  },
  {
   "cell_type": "code",
   "execution_count": null,
   "id": "bb51a3fe-1852-432b-b48c-59909ae3db17",
   "metadata": {},
   "outputs": [],
   "source": [
    "template=\"\"\"\n",
    "Answer the following questions as best you can. You have access to the following tools: {tools}\n",
    "Use the following format:\n",
    "Question: the input question you must answer\n",
    "Thought: you should always think about what to do\n",
    "Action: the action to take, should be one of [{tool_names}]\n",
    "Action Input: the input to the action\n",
    "Observation: the result of the action\n",
    "... (this Thought/Action/Action Input/Observation can repeat N times)\n",
    "Thought: I now know the final answer\n",
    "Final Answer: the final answer to the original input question\n",
    "\n",
    "Begin!\n",
    "Question: {input}\n",
    "Thought: {agent_scratchpad}\n",
    "\"\"\""
   ]
  },
  {
   "cell_type": "code",
   "execution_count": null,
   "id": "73cb190c-1c56-4d68-9594-938a6ac5d639",
   "metadata": {},
   "outputs": [],
   "source": [
    "prompt = PromptTemplate.from_template(template=template).partial(tools=render_text_description(tools), tool_names=\", \".join([t.name for t in tools]))"
   ]
  },
  {
   "cell_type": "code",
   "execution_count": null,
   "id": "6f416c97-0dae-479f-bf70-2e2dd94d7239",
   "metadata": {},
   "outputs": [],
   "source": [
    "llm = ChatOpenAI(\n",
    "  model=\"gpt-3.5-turbo\",\n",
    "  temperature=0,\n",
    "  api_key=OPENAI_API_KEY,\n",
    "  model_kwargs={\"stop\": [\"\\nObservation\", \"Observation\"] }\n",
    ")"
   ]
  },
  {
   "cell_type": "code",
   "execution_count": null,
   "id": "d0f67f1e-f51d-4043-848a-af1002d495ff",
   "metadata": {},
   "outputs": [],
   "source": [
    "agent_scratchpad = []"
   ]
  },
  {
   "cell_type": "code",
   "execution_count": null,
   "id": "b5b78adb-8b49-487a-ae3c-f7c8583ccd39",
   "metadata": {},
   "outputs": [],
   "source": [
    "agent = (\n",
    "    {\n",
    "        \"input\": lambda x: x[\"input\"],\n",
    "        \"agent_scratchpad\": lambda x: format_log_to_str(x[\"agent_scratchpad\"]),\n",
    "    }\n",
    "    | prompt\n",
    "    | llm\n",
    "    | ReActSingleInputOutputParser()\n",
    ")"
   ]
  },
  {
   "cell_type": "code",
   "execution_count": null,
   "id": "77208611-1541-4cc6-858c-32af31a65943",
   "metadata": {},
   "outputs": [],
   "source": [
    "def find_tool(tools, name):\n",
    "    for tool in tools:\n",
    "        if tool.name == name:\n",
    "            return tool\n",
    "    return None"
   ]
  },
  {
   "cell_type": "code",
   "execution_count": null,
   "id": "5db7af3f-9966-4f93-bdfe-fa92bbab61da",
   "metadata": {},
   "outputs": [],
   "source": [
    "step = None\n",
    "while not isinstance(step, AgentFinish):\n",
    "    step = agent.invoke(\n",
    "        {\n",
    "            \"input\": \"What is the length of the word: pistacho\",\n",
    "            \"agent_scratchpad\": agent_scratchpad,\n",
    "        }\n",
    "    )\n",
    "    print(step)\n",
    "    if isinstance(step, AgentAction):\n",
    "        tool_name = step.tool\n",
    "        tool = find_tool(tools, step.tool)\n",
    "        observation = tool.func(str(step.tool_input))\n",
    "        print(f\"{observation=}\")\n",
    "        agent_scratchpad.append((step, str(observation)))\n"
   ]
  },
  {
   "cell_type": "code",
   "execution_count": null,
   "id": "1dc055d9-b615-48e2-9275-46f0542077b4",
   "metadata": {},
   "outputs": [],
   "source": [
    "if isinstance(step, AgentFinish):\n",
    "    print(step.return_values)"
   ]
  }
 ],
 "metadata": {
  "kernelspec": {
   "display_name": "Python 3 (ipykernel)",
   "language": "python",
   "name": "python3"
  },
  "language_info": {
   "codemirror_mode": {
    "name": "ipython",
    "version": 3
   },
   "file_extension": ".py",
   "mimetype": "text/x-python",
   "name": "python",
   "nbconvert_exporter": "python",
   "pygments_lexer": "ipython3",
   "version": "3.12.3"
  }
 },
 "nbformat": 4,
 "nbformat_minor": 5
}
