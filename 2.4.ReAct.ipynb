{
 "cells": [
  {
   "cell_type": "code",
   "execution_count": null,
   "id": "6695fed4-b61a-46bf-9ef5-b0b29f2c0a31",
   "metadata": {},
   "outputs": [],
   "source": [
    "from dotenv import load_dotenv\n",
    "import os\n",
    "from langchain import LLMMathChain\n",
    "from langchain_openai import ChatOpenAI\n",
    "from langchain_community.retrievers import TavilySearchAPIRetriever\n",
    "from langchain.agents import create_react_agent, Tool, AgentExecutor\n",
    "from langchain.prompts import PromptTemplate"
   ]
  },
  {
   "cell_type": "code",
   "execution_count": null,
   "id": "7d5c846d-7d0b-4561-8c91-2ab2ee3a78fc",
   "metadata": {},
   "outputs": [],
   "source": [
    "load_dotenv(override=True)\n",
    "OPENAI_API_KEY = os.getenv(\"OPENAI_API_KEY\")\n",
    "TAVILY_API_KEY = os.getenv(\"TAVILY_API_KEY\")"
   ]
  },
  {
   "cell_type": "code",
   "execution_count": null,
   "id": "7997a5c5-2b74-4b92-8771-48e114d13ff8",
   "metadata": {},
   "outputs": [],
   "source": [
    "llm = ChatOpenAI(\n",
    "  model=\"gpt-3.5-turbo\",\n",
    "  temperature=0,\n",
    "  api_key=OPENAI_API_KEY\n",
    ")"
   ]
  },
  {
   "cell_type": "code",
   "execution_count": null,
   "id": "f9fd288e-1a4a-4012-bad0-8360775c40ad",
   "metadata": {},
   "outputs": [],
   "source": [
    "retriever = TavilySearchAPIRetriever(api_key=TAVILY_API_KEY, k=3)"
   ]
  },
  {
   "cell_type": "code",
   "execution_count": null,
   "id": "fa27e60c-b624-4488-ae84-396ede3db6af",
   "metadata": {},
   "outputs": [],
   "source": [
    "llm_math = LLMMathChain.from_llm(llm=llm,verbose=True)"
   ]
  },
  {
   "cell_type": "code",
   "execution_count": null,
   "id": "7f5fdb62-584d-4187-aa92-86f5e5f8a638",
   "metadata": {},
   "outputs": [],
   "source": [
    "tools = [\n",
    "\tTool(\n",
    "\t\tname = \"Search\",\n",
    "\t\tfunc=retriever.invoke,\n",
    "\t\tdescription=\"useful for when you need to answer questions about current events. You should ask targeted questions\"\n",
    "\t),\n",
    "\tTool(\n",
    "\t\tname=\"Calculator\",\n",
    "\t\tfunc=llm_math.invoke,\n",
    "\t\tdescription=\"useful for when you need to answer questions about math\"\n",
    "\t)\n",
    "]"
   ]
  },
  {
   "cell_type": "code",
   "execution_count": null,
   "id": "0c3b6942-1130-4495-b42d-78e073d1ae58",
   "metadata": {},
   "outputs": [],
   "source": [
    "template=\"\"\"\n",
    "Answer the following questions as best you can. You have access to the following tools: {tools}\n",
    "Use the following format:\n",
    "Question: the input question you must answer\n",
    "Thought: you should always think about what to do\n",
    "Action: the action to take, should be one of [{tool_names}]\n",
    "Action Input: the input to the action\n",
    "Observation: the result of the action\n",
    "... (this Thought/Action/Action Input/Observation can repeat N times)\n",
    "Thought: I now know the final answer\n",
    "Final Answer: the final answer to the original input question\n",
    "\n",
    "Begin!\n",
    "Question: {input}\n",
    "Thought:{agent_scratchpad}\n",
    "\"\"\""
   ]
  },
  {
   "cell_type": "code",
   "execution_count": null,
   "id": "b38ce216-59b3-4fc1-af4f-94b2ed3f0640",
   "metadata": {},
   "outputs": [],
   "source": [
    "prompt = ???"
   ]
  },
  {
   "cell_type": "code",
   "execution_count": null,
   "id": "9289b7a1-acc8-4dcb-a1b7-65622425aa31",
   "metadata": {},
   "outputs": [],
   "source": [
    "agent = ???"
   ]
  },
  {
   "cell_type": "code",
   "execution_count": null,
   "id": "e9472c5f-0d3b-4ed3-9ee8-0c9034ba44b2",
   "metadata": {},
   "outputs": [],
   "source": [
    "agent_executor = ???"
   ]
  },
  {
   "cell_type": "code",
   "execution_count": null,
   "id": "ec853c22-0786-4c81-a4bc-5e14e2140bf5",
   "metadata": {},
   "outputs": [],
   "source": [
    "query = \"multiply the current temperature in Tokyo by two and raise to the cube\"\n",
    "agent_executor.invoke({\"input\": query})"
   ]
  }
 ],
 "metadata": {
  "kernelspec": {
   "display_name": "Python 3 (ipykernel)",
   "language": "python",
   "name": "python3"
  },
  "language_info": {
   "codemirror_mode": {
    "name": "ipython",
    "version": 3
   },
   "file_extension": ".py",
   "mimetype": "text/x-python",
   "name": "python",
   "nbconvert_exporter": "python",
   "pygments_lexer": "ipython3",
   "version": "3.12.3"
  }
 },
 "nbformat": 4,
 "nbformat_minor": 5
}
