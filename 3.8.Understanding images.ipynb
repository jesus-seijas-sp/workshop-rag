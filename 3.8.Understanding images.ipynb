{
 "cells": [
  {
   "cell_type": "code",
   "execution_count": null,
   "id": "c7d3c1ec-1e2d-454e-a3bf-821fe730f770",
   "metadata": {},
   "outputs": [],
   "source": [
    "from langchain_community.document_loaders import PyPDFLoader\n",
    "from langchain_text_splitters import RecursiveCharacterTextSplitter\n",
    "import fitz\n",
    "from io import BytesIO\n",
    "from PIL import Image\n",
    "import base64\n",
    "from langchain_openai import OpenAIEmbeddings, OpenAI\n",
    "from langchain_core.messages import HumanMessage\n",
    "from langchain_openai import ChatOpenAI\n",
    "from dotenv import load_dotenv\n",
    "import os\n",
    "import chromadb\n",
    "import chromadb.utils.embedding_functions as embedding_functions\n",
    "import uuid\n",
    "from langchain_chroma import Chroma\n",
    "from langchain.chains import RetrievalQA\n",
    "import json\n",
    "from langchain.prompts import PromptTemplate"
   ]
  },
  {
   "cell_type": "code",
   "execution_count": null,
   "id": "03e4494d-f58f-4376-8401-a5b1f512153c",
   "metadata": {},
   "outputs": [],
   "source": [
    "load_dotenv(override=True)\n",
    "OPENAI_API_KEY = os.getenv(\"OPENAI_API_KEY\")"
   ]
  },
  {
   "cell_type": "code",
   "execution_count": null,
   "id": "fb6999bf-9b87-4aa2-a2a3-19d4cc22f3c4",
   "metadata": {},
   "outputs": [],
   "source": [
    "openai_ef = ???\n",
    "embeddings = OpenAIEmbeddings(openai_api_key=OPENAI_API_KEY)"
   ]
  },
  {
   "cell_type": "code",
   "execution_count": null,
   "id": "c28196ef-6fe7-4133-81eb-cfece0d64a0a",
   "metadata": {},
   "outputs": [],
   "source": [
    "loader = PyPDFLoader(\"./data/cpi.pdf\")\n",
    "pdf_pages = loader.load()\n",
    "text_splitter = RecursiveCharacterTextSplitter(chunk_size=500, chunk_overlap=0)\n",
    "docs = text_splitter.split_documents(pdf_pages)"
   ]
  },
  {
   "cell_type": "code",
   "execution_count": null,
   "id": "b40138e4-81a3-4eff-a547-8cda1c53dc0b",
   "metadata": {},
   "outputs": [],
   "source": [
    "db = ???\n",
    "collection = ???"
   ]
  },
  {
   "cell_type": "code",
   "execution_count": null,
   "id": "f6deeef4-0329-430b-87c1-0d371c4455d0",
   "metadata": {},
   "outputs": [],
   "source": [
    "ids = []\n",
    "texts = []\n",
    "metadatas = []\n",
    "for doc in docs:\n",
    "    texts.append(doc.page_content)\n",
    "    metadata = doc.metadata\n",
    "    metadata[\"type\"] = \"text\"\n",
    "    metadatas.append(metadata)\n",
    "    ids.append(str(uuid.uuid1()))"
   ]
  },
  {
   "cell_type": "code",
   "execution_count": null,
   "id": "3db8b483-f411-48be-8428-33d641b3508c",
   "metadata": {},
   "outputs": [],
   "source": [
    "collection.add(\n",
    "    documents=texts,\n",
    "    metadatas=metadatas,\n",
    "    ids=ids\n",
    ")"
   ]
  },
  {
   "cell_type": "code",
   "execution_count": null,
   "id": "79b8ec1e-f597-40ab-a71f-1187c013c45f",
   "metadata": {},
   "outputs": [],
   "source": [
    "res = collection.query(\n",
    "    query_texts=[\"inflation and house pricing\"],\n",
    "    n_results=3\n",
    ")\n",
    "print(res)"
   ]
  },
  {
   "cell_type": "code",
   "execution_count": null,
   "id": "98ddd98f-7598-4e25-b053-61426a964c54",
   "metadata": {},
   "outputs": [],
   "source": [
    "## retrieve images"
   ]
  },
  {
   "cell_type": "code",
   "execution_count": null,
   "id": "453fee84-d69c-4f20-9d94-b84fc24fbfce",
   "metadata": {},
   "outputs": [],
   "source": [
    "## summarize image\n",
    "def image_summarize(img_base64, prompt):"
   ]
  },
  {
   "cell_type": "code",
   "execution_count": null,
   "id": "ff6990ef-c63d-4437-bcd3-4c0fedc9e3d5",
   "metadata": {},
   "outputs": [],
   "source": [
    "prompt = \"\"\"You are an assistant tasked with summarizing images for retrieval. \\\n",
    "These summaries will be embedded and used to retrieve the raw image. \\\n",
    "Give a concise summary of the image that is well optimized for retrieval.\"\"\""
   ]
  },
  {
   "cell_type": "code",
   "execution_count": null,
   "id": "bb25fee1-485e-4d3e-bc81-5774d6f6f114",
   "metadata": {},
   "outputs": [],
   "source": [
    "## iterate images and store in db"
   ]
  },
  {
   "cell_type": "code",
   "execution_count": null,
   "id": "fc4850ef-7fbb-4b8e-a463-cb84a253ba40",
   "metadata": {},
   "outputs": [],
   "source": [
    "res = collection.query(\n",
    "    query_texts=[\"percentage distribution of consumer\"],\n",
    "    n_results=1\n",
    ")\n",
    "print(res)"
   ]
  },
  {
   "cell_type": "code",
   "execution_count": null,
   "id": "25f053f9-0de9-4479-a307-4bb88fd10809",
   "metadata": {},
   "outputs": [],
   "source": [
    "print(collection.get())"
   ]
  },
  {
   "cell_type": "code",
   "execution_count": null,
   "id": "5e8709b3-255a-49e9-b50c-05397b65505b",
   "metadata": {},
   "outputs": [],
   "source": [
    "template = \"\"\"\n",
    "Use the following pieces of context to answer the question at the end. Please follow the following rules:\n",
    "1. Include in the answer the metadata and the id. Example: \n",
    "        Answer: here put the answer\n",
    "        Id: here put the context id\n",
    "        Metadata: here put the metadata\n",
    "2. If you don't know the answer, don't try to make up an answer. Just say \"I don't know\" as the answer and None as the metadata\n",
    "3. If you find the answer, write the answer in a concise way.\n",
    "\n",
    "{context}\n",
    "\n",
    "Question: {question}\n",
    "Answer:\"\"\""
   ]
  },
  {
   "cell_type": "code",
   "execution_count": null,
   "id": "be219949-e40e-496c-b9f9-ceaf2a776360",
   "metadata": {},
   "outputs": [],
   "source": [
    "query = \"What percentage of CPI is dedicated to Housing, and how does it compare to the combined percentage of Medical Care, Apparel, and Other Goods and Services?\"\n",
    "db_result = res = collection.query(\n",
    "    query_texts=[query],\n",
    "    n_results=3\n",
    ")\n",
    "print(db_result)"
   ]
  },
  {
   "cell_type": "code",
   "execution_count": null,
   "id": "2d6cccf6-b40c-405e-8b79-df59adf4f2c9",
   "metadata": {},
   "outputs": [],
   "source": [
    "context = \"\"\n",
    "for i in range(len(db_result['ids'][0])):\n",
    "    current = \"Id:\" + db_result['ids'][0][i]\n",
    "    current += \"\\nContext: \" + db_result[\"documents\"][0][i]\n",
    "    metadata_str = json.dumps(db_result[\"metadatas\"][0][i])\n",
    "    current += \"\\nMetadata: \" + metadata_str\n",
    "    current += \"\\n\\n\"\n",
    "    context += current\n",
    "print(context)"
   ]
  },
  {
   "cell_type": "code",
   "execution_count": null,
   "id": "477c19b3-7079-4624-b704-1f1798e38b32",
   "metadata": {},
   "outputs": [],
   "source": [
    "prompt = PromptTemplate(input_variables=[\"context\", \"question\"], template=template)"
   ]
  },
  {
   "cell_type": "code",
   "execution_count": null,
   "id": "79db960a-701d-4d3b-b9db-f9c9d55b5a2b",
   "metadata": {},
   "outputs": [],
   "source": [
    "str = prompt.format(context=context, question=query)\n",
    "print(str)"
   ]
  },
  {
   "cell_type": "code",
   "execution_count": null,
   "id": "2b4a603c-4970-4a08-a9e4-6337ea00470f",
   "metadata": {},
   "outputs": [],
   "source": [
    "llm = ChatOpenAI(\n",
    "  model=\"gpt-3.5-turbo\",\n",
    "  temperature=0,\n",
    "  api_key=OPENAI_API_KEY\n",
    ")\n",
    "res = llm.invoke(str)\n",
    "print(res)"
   ]
  }
 ],
 "metadata": {
  "kernelspec": {
   "display_name": "Python 3 (ipykernel)",
   "language": "python",
   "name": "python3"
  },
  "language_info": {
   "codemirror_mode": {
    "name": "ipython",
    "version": 3
   },
   "file_extension": ".py",
   "mimetype": "text/x-python",
   "name": "python",
   "nbconvert_exporter": "python",
   "pygments_lexer": "ipython3",
   "version": "3.12.3"
  }
 },
 "nbformat": 4,
 "nbformat_minor": 5
}
